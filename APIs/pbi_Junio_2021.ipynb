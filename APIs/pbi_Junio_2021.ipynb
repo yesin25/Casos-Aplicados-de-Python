{
  "nbformat": 4,
  "nbformat_minor": 0,
  "metadata": {
    "colab": {
      "name": "Untitled.ipynb",
      "provenance": [],
      "collapsed_sections": [
        "FFxBQlzCGY6u"
      ],
      "include_colab_link": true
    },
    "kernelspec": {
      "display_name": "Python 3",
      "language": "python",
      "name": "python3"
    },
    "language_info": {
      "codemirror_mode": {
        "name": "ipython",
        "version": 3
      },
      "file_extension": ".py",
      "mimetype": "text/x-python",
      "name": "python",
      "nbconvert_exporter": "python",
      "pygments_lexer": "ipython3",
      "version": "3.8.5"
    }
  },
  "cells": [
    {
      "cell_type": "markdown",
      "metadata": {
        "id": "view-in-github",
        "colab_type": "text"
      },
      "source": [
        "<a href=\"https://colab.research.google.com/github/yesin25/Casos-Aplicados-de-Python/blob/main/APIs/pbi_Junio_2021.ipynb\" target=\"_parent\"><img src=\"https://colab.research.google.com/assets/colab-badge.svg\" alt=\"Open In Colab\"/></a>"
      ]
    },
    {
      "cell_type": "markdown",
      "metadata": {
        "id": "_evI4QF2F7Gz"
      },
      "source": [
        "# ANÁLISIS DEL PBI PERUANO (USO DE API DEL BCRP)\n"
      ]
    },
    {
      "cell_type": "markdown",
      "metadata": {
        "id": "bMW58_f2GHGH"
      },
      "source": [
        "## I. Introducción"
      ]
    },
    {
      "cell_type": "markdown",
      "metadata": {
        "id": "wdDI2uLHGNDv"
      },
      "source": [
        "<p style=\"text-align: justify;\"> Practicamente todas las economías del mundo buscan crecer y esto se mide a través del PBI, el Perú no es la excepción. En este sentido, su comportamiento es importante. Desde ya, es fácil presuponer algunas características como la presencia de tendencia en la serie (por lo tanto, no estacionalidad) que nos planteará algunas observaciones. Empezaremos trabajando con el API del BCR para conseguir la base de datos. </p>\n",
        "\n",
        "<p style=\"text-align: justify;\"> Recomendamos tener una noción previa del uso de diccionarios y listas en Python </p>\n"
      ]
    },
    {
      "cell_type": "markdown",
      "metadata": {
        "id": "NDa75AVMIhVS"
      },
      "source": [
        "## II. API del BCRP"
      ]
    },
    {
      "cell_type": "code",
      "metadata": {
        "colab": {
          "base_uri": "https://localhost:8080/"
        },
        "id": "27hRwLwUGY5h",
        "outputId": "ed8c8cc0-ecae-4991-e98e-047bcf8c9a62"
      },
      "source": [
        "#https://estadisticas.bcrp.gob.pe/estadisticas/series/mensuales/resultados/PN01288PM/html\n",
        "#PN01770AM : PBI\n",
        "#PN01142MM : índice bursátil\n",
        "#PN01288PM:  índice de PM sin alimentos\n",
        "url_base=\"https://estadisticas.bcrp.gob.pe/estadisticas/series/api/\"\n",
        "cod_ser=\"PN01770AM\"   #[códigos de series mensuales]\n",
        "formato=\"/json\"\n",
        "per=\"/2005-1/2021-08\"\n",
        "url=url_base+cod_ser+formato+per\n",
        "print(url)\n",
        "#args=\"address=1600+Amphitheatre+Parkway,+Mountain+View,+CA&\"+key_api\n",
        "#No necesitamos poner la url en formato de diccionario, no hay \"?\" no usamos query con argumentos con key y values"
      ],
      "execution_count": 35,
      "outputs": [
        {
          "output_type": "stream",
          "name": "stdout",
          "text": [
            "https://estadisticas.bcrp.gob.pe/estadisticas/series/api/PN01770AM/json/2005-1/2021-08\n"
          ]
        }
      ]
    },
    {
      "cell_type": "code",
      "metadata": {
        "colab": {
          "base_uri": "https://localhost:8080/",
          "height": 120
        },
        "id": "tXgNJtu2GY51",
        "outputId": "bcf25797-2cd5-4b63-91a5-063e2e7df319"
      },
      "source": [
        "import requests\n",
        "response=requests.get(url)\n",
        "print(response)\n",
        "\n",
        "'''200: Todo salió bien y se devolvió el resultado (si lo hubiera).\n",
        "301: el servidor lo redirige a un punto final diferente. Esto puede suceder cuando una empresa cambia los nombres de dominio o se cambia el nombre de un punto final.\n",
        "400: El servidor cree que realizó una solicitud incorrecta. Esto puede suceder cuando no envía los datos correctos, entre otras cosas.\n",
        "401: el servidor cree que no está autenticado. Muchas API requieren credenciales de inicio de sesión, por lo que esto sucede cuando no envía las credenciales correctas para acceder a una API.\n",
        "403: El recurso al que intentas acceder está prohibido: no tienes los permisos adecuados para verlo.\n",
        "404: el recurso al que intentó acceder no se encontró en el servidor.\n",
        "503: El servidor no está listo para manejar la solicitud'''"
      ],
      "execution_count": 36,
      "outputs": [
        {
          "output_type": "stream",
          "name": "stdout",
          "text": [
            "<Response [200]>\n"
          ]
        },
        {
          "output_type": "execute_result",
          "data": {
            "application/vnd.google.colaboratory.intrinsic+json": {
              "type": "string"
            },
            "text/plain": [
              "'200: Todo salió bien y se devolvió el resultado (si lo hubiera).\\n301: el servidor lo redirige a un punto final diferente. Esto puede suceder cuando una empresa cambia los nombres de dominio o se cambia el nombre de un punto final.\\n400: El servidor cree que realizó una solicitud incorrecta. Esto puede suceder cuando no envía los datos correctos, entre otras cosas.\\n401: el servidor cree que no está autenticado. Muchas API requieren credenciales de inicio de sesión, por lo que esto sucede cuando no envía las credenciales correctas para acceder a una API.\\n403: El recurso al que intentas acceder está prohibido: no tienes los permisos adecuados para verlo.\\n404: el recurso al que intentó acceder no se encontró en el servidor.\\n503: El servidor no está listo para manejar la solicitud'"
            ]
          },
          "metadata": {},
          "execution_count": 36
        }
      ]
    },
    {
      "cell_type": "code",
      "metadata": {
        "colab": {
          "base_uri": "https://localhost:8080/",
          "height": 72
        },
        "id": "GnKSACMvGY56",
        "outputId": "26f95c55-894b-4b22-c823-4f4ee468f3db"
      },
      "source": [
        "\n",
        "#print(response.url)\n",
        "#Extraemos en formato json\n",
        "response_json=response.json()\n",
        "print(response_json) \n",
        "\n",
        "\n",
        "'''if response.status_code==200:\n",
        "    content=response.content '''"
      ],
      "execution_count": 37,
      "outputs": [
        {
          "output_type": "stream",
          "name": "stdout",
          "text": [
            "{'config': {'title': 'Producto bruto interno y demanda interna (Ã\\xadndice 2007=100)', 'series': [{'name': 'Producto bruto interno y demanda interna (Ã\\xadndice 2007=100) - PBI', 'dec': '1'}]}, 'periods': [{'name': 'Ene.2005', 'values': ['79.9791610934839']}, {'name': 'Feb.2005', 'values': ['80.1344599066734']}, {'name': 'Mar.2005', 'values': ['81.3964129865707']}, {'name': 'Abr.2005', 'values': ['87.0734470255748']}, {'name': 'May.2005', 'values': ['92.1414551036507']}, {'name': 'Jun.2005', 'values': ['88.4557729993011']}, {'name': 'Jul.2005', 'values': ['87.2766006292957']}, {'name': 'Ago.2005', 'values': ['82.9894831129745']}, {'name': 'Sep.2005', 'values': ['82.0878665294671']}, {'name': 'Oct.2005', 'values': ['84.8027239326644']}, {'name': 'Nov.2005', 'values': ['90.4951176179881']}, {'name': 'Dic.2005', 'values': ['91.5459266918293']}, {'name': 'Ene.2006', 'values': ['85.6590424919578']}, {'name': 'Feb.2006', 'values': ['84.6285220854951']}, {'name': 'Mar.2006', 'values': ['91.2286928400679']}, {'name': 'Abr.2006', 'values': ['91.7780023638019']}, {'name': 'May.2006', 'values': ['97.7619063414799']}, {'name': 'Jun.2006', 'values': ['95.072899809632']}, {'name': 'Jul.2006', 'values': ['92.9616001230902']}, {'name': 'Ago.2006', 'values': ['91.5547627296281']}, {'name': 'Sep.2006', 'values': ['88.769329600051']}, {'name': 'Oct.2006', 'values': ['92.1822066698177']}, {'name': 'Nov.2006', 'values': ['94.7874212319493']}, {'name': 'Dic.2006', 'values': ['99.4183587606666']}, {'name': 'Ene.2007', 'values': ['89.9525882643661']}, {'name': 'Feb.2007', 'values': ['88.6681172249627']}, {'name': 'Mar.2007', 'values': ['96.7214533943502']}, {'name': 'Abr.2007', 'values': ['96.6364305755835']}, {'name': 'May.2007', 'values': ['104.746678845017']}, {'name': 'Jun.2007', 'values': ['101.254564848151']}, {'name': 'Jul.2007', 'values': ['102.545127982158']}, {'name': 'Ago.2007', 'values': ['100.128653426881']}, {'name': 'Sep.2007', 'values': ['100.240409392761']}, {'name': 'Oct.2007', 'values': ['103.151319547191']}, {'name': 'Nov.2007', 'values': ['104.099681882306']}, {'name': 'Dic.2007', 'values': ['111.854974616273']}, {'name': 'Ene.2008', 'values': ['98.5124691500909']}, {'name': 'Feb.2008', 'values': ['100.676630392283']}, {'name': 'Mar.2008', 'values': ['104.088019443654']}, {'name': 'Abr.2008', 'values': ['110.247082044336']}, {'name': 'May.2008', 'values': ['112.085333116459']}, {'name': 'Jun.2008', 'values': ['112.179938878862']}, {'name': 'Jul.2008', 'values': ['112.30111638353']}, {'name': 'Ago.2008', 'values': ['108.889993837838']}, {'name': 'Sep.2008', 'values': ['110.740748155261']}, {'name': 'Oct.2008', 'values': ['111.655298051568']}, {'name': 'Nov.2008', 'values': ['110.667087487058']}, {'name': 'Dic.2008', 'values': ['117.47510267663']}, {'name': 'Ene.2009', 'values': ['102.957858945926']}, {'name': 'Feb.2009', 'values': ['101.033710465978']}, {'name': 'Mar.2009', 'values': ['107.152722142806']}, {'name': 'Abr.2009', 'values': ['108.852131263431']}, {'name': 'May.2009', 'values': ['114.233019803374']}, {'name': 'Jun.2009', 'values': ['108.973271232088']}, {'name': 'Jul.2009', 'values': ['110.739303018834']}, {'name': 'Ago.2009', 'values': ['109.85408751521']}, {'name': 'Sep.2009', 'values': ['111.004716399796']}, {'name': 'Oct.2009', 'values': ['113.066648315728']}, {'name': 'Nov.2009', 'values': ['113.616682254538']}, {'name': 'Dic.2009', 'values': ['122.384685307467']}, {'name': 'Ene.2010', 'values': ['106.149264450582']}, {'name': 'Feb.2010', 'values': ['106.181819433019']}, {'name': 'Mar.2010', 'values': ['115.871470441955']}, {'name': 'Abr.2010', 'values': ['117.530089179306']}, {'name': 'May.2010', 'values': ['122.840552655204']}, {'name': 'Jun.2010', 'values': ['122.952135955432']}, {'name': 'Jul.2010', 'values': ['121.715587141414']}, {'name': 'Ago.2010', 'values': ['119.436561951622']}, {'name': 'Sep.2010', 'values': ['122.177647930984']}, {'name': 'Oct.2010', 'values': ['123.724536977663']}, {'name': 'Nov.2010', 'values': ['123.65452856334']}, {'name': 'Dic.2010', 'values': ['131.94547143666']}, {'name': 'Ene.2011', 'values': ['116.302710412802']}, {'name': 'Feb.2011', 'values': ['114.737766544779']}, {'name': 'Mar.2011', 'values': ['124.776562514662']}, {'name': 'Abr.2011', 'values': ['126.257436978601']}, {'name': 'May.2011', 'values': ['129.648233774277']}, {'name': 'Jun.2011', 'values': ['126.617362281939']}, {'name': 'Jul.2011', 'values': ['129.097715620924']}, {'name': 'Ago.2011', 'values': ['127.177016700397']}, {'name': 'Sep.2011', 'values': ['128.170159496767']}, {'name': 'Oct.2011', 'values': ['129.238348040151']}, {'name': 'Nov.2011', 'values': ['129.518550609491']}, {'name': 'Dic.2011', 'values': ['143.381110002409']}, {'name': 'Ene.2012', 'values': ['122.643071947149']}, {'name': 'Feb.2012', 'values': ['122.832020719878']}, {'name': 'Mar.2012', 'values': ['132.084647458656']}, {'name': 'Abr.2012', 'values': ['130.294082135048']}, {'name': 'May.2012', 'values': ['138.61618365119']}, {'name': 'Jun.2012', 'values': ['136.159665679261']}, {'name': 'Jul.2012', 'values': ['138.460698232367']}, {'name': 'Ago.2012', 'values': ['136.158273093249']}, {'name': 'Sep.2012', 'values': ['136.815825182284']}, {'name': 'Oct.2012', 'values': ['138.82307463723']}, {'name': 'Nov.2012', 'values': ['137.369646504615']}, {'name': 'Dic.2012', 'values': ['148.291856249589']}, {'name': 'Ene.2013', 'values': ['130.559870876122']}, {'name': 'Feb.2013', 'values': ['129.079285439468']}, {'name': 'Mar.2013', 'values': ['136.715956871123']}, {'name': 'Abr.2013', 'values': ['141.786704119264']}, {'name': 'May.2013', 'values': ['144.525053723416']}, {'name': 'Jun.2013', 'values': ['144.131413574898']}, {'name': 'Jul.2013', 'values': ['145.815095106868']}, {'name': 'Ago.2013', 'values': ['143.654372163294']}, {'name': 'Sep.2013', 'values': ['143.469567366192']}, {'name': 'Oct.2013', 'values': ['147.44216107328']}, {'name': 'Nov.2013', 'values': ['147.373766707435']}, {'name': 'Dic.2013', 'values': ['158.721676108016']}, {'name': 'Ene.2014', 'values': ['136.080156900526']}, {'name': 'Feb.2014', 'values': ['135.802033826202']}, {'name': 'Mar.2014', 'values': ['144.115400712559']}, {'name': 'Abr.2014', 'values': ['145.931546827738']}, {'name': 'May.2014', 'values': ['148.269023094031']}, {'name': 'Jun.2014', 'values': ['144.676466485034']}, {'name': 'Jul.2014', 'values': ['147.929295918272']}, {'name': 'Ago.2014', 'values': ['145.598354671513']}, {'name': 'Sep.2014', 'values': ['147.304756751008']}, {'name': 'Oct.2014', 'values': ['150.794048039838']}, {'name': 'Nov.2014', 'values': ['147.60537140319']}, {'name': 'Dic.2014', 'values': ['159.981373380087']}, {'name': 'Ene.2015', 'values': ['138.202773285621']}, {'name': 'Feb.2015', 'values': ['137.475332897499']}, {'name': 'Mar.2015', 'values': ['148.344676924424']}, {'name': 'Abr.2015', 'values': ['152.054571104153']}, {'name': 'May.2015', 'values': ['150.168889528391']}, {'name': 'Jun.2015', 'values': ['150.584886125126']}, {'name': 'Jul.2015', 'values': ['153.257314986565']}, {'name': 'Ago.2015', 'values': ['149.484578017035']}, {'name': 'Sep.2015', 'values': ['152.001795472531']}, {'name': 'Oct.2015', 'values': ['155.732799904909']}, {'name': 'Nov.2015', 'values': ['153.428539254848']}, {'name': 'Dic.2015', 'values': ['170.398900194874']}, {'name': 'Ene.2016', 'values': ['143.091215635']}, {'name': 'Feb.2016', 'values': ['146.304823690228']}, {'name': 'Mar.2016', 'values': ['153.619447407356']}, {'name': 'Abr.2016', 'values': ['156.27543924953']}, {'name': 'May.2016', 'values': ['157.499653730297']}, {'name': 'Jun.2016', 'values': ['155.985773851789']}, {'name': 'Jul.2016', 'values': ['158.752598273969']}, {'name': 'Ago.2016', 'values': ['158.118611292709']}, {'name': 'Sep.2016', 'values': ['158.852969567679']}, {'name': 'Oct.2016', 'values': ['159.121828754461']}, {'name': 'Nov.2016', 'values': ['158.813733175265']}, {'name': 'Dic.2016', 'values': ['176.298904261276']}, {'name': 'Ene.2017', 'values': ['150.315681607042']}, {'name': 'Feb.2017', 'values': ['147.496685883019']}, {'name': 'Mar.2017', 'values': ['155.409513502016']}, {'name': 'Abr.2017', 'values': ['156.756245523049']}, {'name': 'May.2017', 'values': ['163.241402220255']}, {'name': 'Jun.2017', 'values': ['162.170199535179']}, {'name': 'Jul.2017', 'values': ['162.271895850081']}, {'name': 'Ago.2017', 'values': ['162.648201868668']}, {'name': 'Sep.2017', 'values': ['164.173657853003']}, {'name': 'Oct.2017', 'values': ['164.85621643264']}, {'name': 'Nov.2017', 'values': ['162.018486485472']}, {'name': 'Dic.2017', 'values': ['178.799808566343']}, {'name': 'Ene.2018', 'values': ['154.573488940953']}, {'name': 'Feb.2018', 'values': ['151.427610864173']}, {'name': 'Mar.2018', 'values': ['161.393406799648']}, {'name': 'Abr.2018', 'values': ['169.393610745309']}, {'name': 'May.2018', 'values': ['174.175837444048']}, {'name': 'Jun.2018', 'values': ['165.554855439437']}, {'name': 'Jul.2018', 'values': ['166.56232948485']}, {'name': 'Ago.2018', 'values': ['166.449477467445']}, {'name': 'Sep.2018', 'values': ['168.17658816427']}, {'name': 'Oct.2018', 'values': ['171.63317432662']}, {'name': 'Nov.2018', 'values': ['170.286160785504']}, {'name': 'Dic.2018', 'values': ['187.292597585809']}, {'name': 'Ene.2019', 'values': ['157.283588943142']}, {'name': 'Feb.2019', 'values': ['154.6604748931']}, {'name': 'Mar.2019', 'values': ['166.89506745534']}, {'name': 'Abr.2019', 'values': ['169.455759118905']}, {'name': 'May.2019', 'values': ['175.346300356905']}, {'name': 'Jun.2019', 'values': ['170.12408779673']}, {'name': 'Jul.2019', 'values': ['172.993591977303']}, {'name': 'Ago.2019', 'values': ['172.477659504587']}, {'name': 'Sep.2019', 'values': ['172.071628718802']}, {'name': 'Oct.2019', 'values': ['175.679286065069']}, {'name': 'Nov.2019', 'values': ['173.715766063067']}, {'name': 'Dic.2019', 'values': ['189.367325527928']}, {'name': 'Ene.2020', 'values': ['161.866143196905']}, {'name': 'Feb.2020', 'values': ['160.864665993473']}, {'name': 'Mar.2020', 'values': ['137.314337023617']}, {'name': 'Abr.2020', 'values': ['103.260173609716']}, {'name': 'May.2020', 'values': ['118.356253308774']}, {'name': 'Jun.2020', 'values': ['139.296873751302']}, {'name': 'Jul.2020', 'values': ['153.72925655473']}, {'name': 'Ago.2020', 'values': ['156.739967345061']}, {'name': 'Sep.2020', 'values': ['161.729827021749']}, {'name': 'Oct.2020', 'values': ['170.045202860223']}, {'name': 'Nov.2020', 'values': ['170.098766893669']}, {'name': 'Dic.2020', 'values': ['191.169214456586']}, {'name': 'Ene.2021', 'values': ['160.587699375939']}, {'name': 'Feb.2021', 'values': ['155.30814785852']}, {'name': 'Mar.2021', 'values': ['164.77997549993']}, {'name': 'Abr.2021', 'values': ['164.615634494188']}, {'name': 'May.2021', 'values': ['175.477623498944']}, {'name': 'Jun.2021', 'values': ['171.955555358439']}]}\n"
          ]
        },
        {
          "output_type": "execute_result",
          "data": {
            "application/vnd.google.colaboratory.intrinsic+json": {
              "type": "string"
            },
            "text/plain": [
              "'if response.status_code==200:\\n    content=response.content '"
            ]
          },
          "metadata": {},
          "execution_count": 37
        }
      ]
    },
    {
      "cell_type": "code",
      "metadata": {
        "colab": {
          "base_uri": "https://localhost:8080/"
        },
        "id": "2sP9jDlfGY59",
        "outputId": "a1754752-ed76-413c-a10f-b9681033c318"
      },
      "source": [
        "for key in response_json.keys():\n",
        "    print(key)"
      ],
      "execution_count": 38,
      "outputs": [
        {
          "output_type": "stream",
          "name": "stdout",
          "text": [
            "config\n",
            "periods\n"
          ]
        }
      ]
    },
    {
      "cell_type": "code",
      "metadata": {
        "colab": {
          "base_uri": "https://localhost:8080/"
        },
        "id": "hG65IoEFGY5_",
        "outputId": "34a4cfce-2f3a-4bfa-fa7a-c2de746604d2"
      },
      "source": [
        "print(response_json['config'])\n"
      ],
      "execution_count": 39,
      "outputs": [
        {
          "output_type": "stream",
          "name": "stdout",
          "text": [
            "{'title': 'Producto bruto interno y demanda interna (Ã\\xadndice 2007=100)', 'series': [{'name': 'Producto bruto interno y demanda interna (Ã\\xadndice 2007=100) - PBI', 'dec': '1'}]}\n"
          ]
        }
      ]
    },
    {
      "cell_type": "code",
      "metadata": {
        "colab": {
          "base_uri": "https://localhost:8080/"
        },
        "id": "3j85snGGGY6A",
        "outputId": "e489c603-d420-41fb-c11d-c1975afe6d62"
      },
      "source": [
        "print(response_json['periods'])"
      ],
      "execution_count": 40,
      "outputs": [
        {
          "output_type": "stream",
          "name": "stdout",
          "text": [
            "[{'name': 'Ene.2005', 'values': ['79.9791610934839']}, {'name': 'Feb.2005', 'values': ['80.1344599066734']}, {'name': 'Mar.2005', 'values': ['81.3964129865707']}, {'name': 'Abr.2005', 'values': ['87.0734470255748']}, {'name': 'May.2005', 'values': ['92.1414551036507']}, {'name': 'Jun.2005', 'values': ['88.4557729993011']}, {'name': 'Jul.2005', 'values': ['87.2766006292957']}, {'name': 'Ago.2005', 'values': ['82.9894831129745']}, {'name': 'Sep.2005', 'values': ['82.0878665294671']}, {'name': 'Oct.2005', 'values': ['84.8027239326644']}, {'name': 'Nov.2005', 'values': ['90.4951176179881']}, {'name': 'Dic.2005', 'values': ['91.5459266918293']}, {'name': 'Ene.2006', 'values': ['85.6590424919578']}, {'name': 'Feb.2006', 'values': ['84.6285220854951']}, {'name': 'Mar.2006', 'values': ['91.2286928400679']}, {'name': 'Abr.2006', 'values': ['91.7780023638019']}, {'name': 'May.2006', 'values': ['97.7619063414799']}, {'name': 'Jun.2006', 'values': ['95.072899809632']}, {'name': 'Jul.2006', 'values': ['92.9616001230902']}, {'name': 'Ago.2006', 'values': ['91.5547627296281']}, {'name': 'Sep.2006', 'values': ['88.769329600051']}, {'name': 'Oct.2006', 'values': ['92.1822066698177']}, {'name': 'Nov.2006', 'values': ['94.7874212319493']}, {'name': 'Dic.2006', 'values': ['99.4183587606666']}, {'name': 'Ene.2007', 'values': ['89.9525882643661']}, {'name': 'Feb.2007', 'values': ['88.6681172249627']}, {'name': 'Mar.2007', 'values': ['96.7214533943502']}, {'name': 'Abr.2007', 'values': ['96.6364305755835']}, {'name': 'May.2007', 'values': ['104.746678845017']}, {'name': 'Jun.2007', 'values': ['101.254564848151']}, {'name': 'Jul.2007', 'values': ['102.545127982158']}, {'name': 'Ago.2007', 'values': ['100.128653426881']}, {'name': 'Sep.2007', 'values': ['100.240409392761']}, {'name': 'Oct.2007', 'values': ['103.151319547191']}, {'name': 'Nov.2007', 'values': ['104.099681882306']}, {'name': 'Dic.2007', 'values': ['111.854974616273']}, {'name': 'Ene.2008', 'values': ['98.5124691500909']}, {'name': 'Feb.2008', 'values': ['100.676630392283']}, {'name': 'Mar.2008', 'values': ['104.088019443654']}, {'name': 'Abr.2008', 'values': ['110.247082044336']}, {'name': 'May.2008', 'values': ['112.085333116459']}, {'name': 'Jun.2008', 'values': ['112.179938878862']}, {'name': 'Jul.2008', 'values': ['112.30111638353']}, {'name': 'Ago.2008', 'values': ['108.889993837838']}, {'name': 'Sep.2008', 'values': ['110.740748155261']}, {'name': 'Oct.2008', 'values': ['111.655298051568']}, {'name': 'Nov.2008', 'values': ['110.667087487058']}, {'name': 'Dic.2008', 'values': ['117.47510267663']}, {'name': 'Ene.2009', 'values': ['102.957858945926']}, {'name': 'Feb.2009', 'values': ['101.033710465978']}, {'name': 'Mar.2009', 'values': ['107.152722142806']}, {'name': 'Abr.2009', 'values': ['108.852131263431']}, {'name': 'May.2009', 'values': ['114.233019803374']}, {'name': 'Jun.2009', 'values': ['108.973271232088']}, {'name': 'Jul.2009', 'values': ['110.739303018834']}, {'name': 'Ago.2009', 'values': ['109.85408751521']}, {'name': 'Sep.2009', 'values': ['111.004716399796']}, {'name': 'Oct.2009', 'values': ['113.066648315728']}, {'name': 'Nov.2009', 'values': ['113.616682254538']}, {'name': 'Dic.2009', 'values': ['122.384685307467']}, {'name': 'Ene.2010', 'values': ['106.149264450582']}, {'name': 'Feb.2010', 'values': ['106.181819433019']}, {'name': 'Mar.2010', 'values': ['115.871470441955']}, {'name': 'Abr.2010', 'values': ['117.530089179306']}, {'name': 'May.2010', 'values': ['122.840552655204']}, {'name': 'Jun.2010', 'values': ['122.952135955432']}, {'name': 'Jul.2010', 'values': ['121.715587141414']}, {'name': 'Ago.2010', 'values': ['119.436561951622']}, {'name': 'Sep.2010', 'values': ['122.177647930984']}, {'name': 'Oct.2010', 'values': ['123.724536977663']}, {'name': 'Nov.2010', 'values': ['123.65452856334']}, {'name': 'Dic.2010', 'values': ['131.94547143666']}, {'name': 'Ene.2011', 'values': ['116.302710412802']}, {'name': 'Feb.2011', 'values': ['114.737766544779']}, {'name': 'Mar.2011', 'values': ['124.776562514662']}, {'name': 'Abr.2011', 'values': ['126.257436978601']}, {'name': 'May.2011', 'values': ['129.648233774277']}, {'name': 'Jun.2011', 'values': ['126.617362281939']}, {'name': 'Jul.2011', 'values': ['129.097715620924']}, {'name': 'Ago.2011', 'values': ['127.177016700397']}, {'name': 'Sep.2011', 'values': ['128.170159496767']}, {'name': 'Oct.2011', 'values': ['129.238348040151']}, {'name': 'Nov.2011', 'values': ['129.518550609491']}, {'name': 'Dic.2011', 'values': ['143.381110002409']}, {'name': 'Ene.2012', 'values': ['122.643071947149']}, {'name': 'Feb.2012', 'values': ['122.832020719878']}, {'name': 'Mar.2012', 'values': ['132.084647458656']}, {'name': 'Abr.2012', 'values': ['130.294082135048']}, {'name': 'May.2012', 'values': ['138.61618365119']}, {'name': 'Jun.2012', 'values': ['136.159665679261']}, {'name': 'Jul.2012', 'values': ['138.460698232367']}, {'name': 'Ago.2012', 'values': ['136.158273093249']}, {'name': 'Sep.2012', 'values': ['136.815825182284']}, {'name': 'Oct.2012', 'values': ['138.82307463723']}, {'name': 'Nov.2012', 'values': ['137.369646504615']}, {'name': 'Dic.2012', 'values': ['148.291856249589']}, {'name': 'Ene.2013', 'values': ['130.559870876122']}, {'name': 'Feb.2013', 'values': ['129.079285439468']}, {'name': 'Mar.2013', 'values': ['136.715956871123']}, {'name': 'Abr.2013', 'values': ['141.786704119264']}, {'name': 'May.2013', 'values': ['144.525053723416']}, {'name': 'Jun.2013', 'values': ['144.131413574898']}, {'name': 'Jul.2013', 'values': ['145.815095106868']}, {'name': 'Ago.2013', 'values': ['143.654372163294']}, {'name': 'Sep.2013', 'values': ['143.469567366192']}, {'name': 'Oct.2013', 'values': ['147.44216107328']}, {'name': 'Nov.2013', 'values': ['147.373766707435']}, {'name': 'Dic.2013', 'values': ['158.721676108016']}, {'name': 'Ene.2014', 'values': ['136.080156900526']}, {'name': 'Feb.2014', 'values': ['135.802033826202']}, {'name': 'Mar.2014', 'values': ['144.115400712559']}, {'name': 'Abr.2014', 'values': ['145.931546827738']}, {'name': 'May.2014', 'values': ['148.269023094031']}, {'name': 'Jun.2014', 'values': ['144.676466485034']}, {'name': 'Jul.2014', 'values': ['147.929295918272']}, {'name': 'Ago.2014', 'values': ['145.598354671513']}, {'name': 'Sep.2014', 'values': ['147.304756751008']}, {'name': 'Oct.2014', 'values': ['150.794048039838']}, {'name': 'Nov.2014', 'values': ['147.60537140319']}, {'name': 'Dic.2014', 'values': ['159.981373380087']}, {'name': 'Ene.2015', 'values': ['138.202773285621']}, {'name': 'Feb.2015', 'values': ['137.475332897499']}, {'name': 'Mar.2015', 'values': ['148.344676924424']}, {'name': 'Abr.2015', 'values': ['152.054571104153']}, {'name': 'May.2015', 'values': ['150.168889528391']}, {'name': 'Jun.2015', 'values': ['150.584886125126']}, {'name': 'Jul.2015', 'values': ['153.257314986565']}, {'name': 'Ago.2015', 'values': ['149.484578017035']}, {'name': 'Sep.2015', 'values': ['152.001795472531']}, {'name': 'Oct.2015', 'values': ['155.732799904909']}, {'name': 'Nov.2015', 'values': ['153.428539254848']}, {'name': 'Dic.2015', 'values': ['170.398900194874']}, {'name': 'Ene.2016', 'values': ['143.091215635']}, {'name': 'Feb.2016', 'values': ['146.304823690228']}, {'name': 'Mar.2016', 'values': ['153.619447407356']}, {'name': 'Abr.2016', 'values': ['156.27543924953']}, {'name': 'May.2016', 'values': ['157.499653730297']}, {'name': 'Jun.2016', 'values': ['155.985773851789']}, {'name': 'Jul.2016', 'values': ['158.752598273969']}, {'name': 'Ago.2016', 'values': ['158.118611292709']}, {'name': 'Sep.2016', 'values': ['158.852969567679']}, {'name': 'Oct.2016', 'values': ['159.121828754461']}, {'name': 'Nov.2016', 'values': ['158.813733175265']}, {'name': 'Dic.2016', 'values': ['176.298904261276']}, {'name': 'Ene.2017', 'values': ['150.315681607042']}, {'name': 'Feb.2017', 'values': ['147.496685883019']}, {'name': 'Mar.2017', 'values': ['155.409513502016']}, {'name': 'Abr.2017', 'values': ['156.756245523049']}, {'name': 'May.2017', 'values': ['163.241402220255']}, {'name': 'Jun.2017', 'values': ['162.170199535179']}, {'name': 'Jul.2017', 'values': ['162.271895850081']}, {'name': 'Ago.2017', 'values': ['162.648201868668']}, {'name': 'Sep.2017', 'values': ['164.173657853003']}, {'name': 'Oct.2017', 'values': ['164.85621643264']}, {'name': 'Nov.2017', 'values': ['162.018486485472']}, {'name': 'Dic.2017', 'values': ['178.799808566343']}, {'name': 'Ene.2018', 'values': ['154.573488940953']}, {'name': 'Feb.2018', 'values': ['151.427610864173']}, {'name': 'Mar.2018', 'values': ['161.393406799648']}, {'name': 'Abr.2018', 'values': ['169.393610745309']}, {'name': 'May.2018', 'values': ['174.175837444048']}, {'name': 'Jun.2018', 'values': ['165.554855439437']}, {'name': 'Jul.2018', 'values': ['166.56232948485']}, {'name': 'Ago.2018', 'values': ['166.449477467445']}, {'name': 'Sep.2018', 'values': ['168.17658816427']}, {'name': 'Oct.2018', 'values': ['171.63317432662']}, {'name': 'Nov.2018', 'values': ['170.286160785504']}, {'name': 'Dic.2018', 'values': ['187.292597585809']}, {'name': 'Ene.2019', 'values': ['157.283588943142']}, {'name': 'Feb.2019', 'values': ['154.6604748931']}, {'name': 'Mar.2019', 'values': ['166.89506745534']}, {'name': 'Abr.2019', 'values': ['169.455759118905']}, {'name': 'May.2019', 'values': ['175.346300356905']}, {'name': 'Jun.2019', 'values': ['170.12408779673']}, {'name': 'Jul.2019', 'values': ['172.993591977303']}, {'name': 'Ago.2019', 'values': ['172.477659504587']}, {'name': 'Sep.2019', 'values': ['172.071628718802']}, {'name': 'Oct.2019', 'values': ['175.679286065069']}, {'name': 'Nov.2019', 'values': ['173.715766063067']}, {'name': 'Dic.2019', 'values': ['189.367325527928']}, {'name': 'Ene.2020', 'values': ['161.866143196905']}, {'name': 'Feb.2020', 'values': ['160.864665993473']}, {'name': 'Mar.2020', 'values': ['137.314337023617']}, {'name': 'Abr.2020', 'values': ['103.260173609716']}, {'name': 'May.2020', 'values': ['118.356253308774']}, {'name': 'Jun.2020', 'values': ['139.296873751302']}, {'name': 'Jul.2020', 'values': ['153.72925655473']}, {'name': 'Ago.2020', 'values': ['156.739967345061']}, {'name': 'Sep.2020', 'values': ['161.729827021749']}, {'name': 'Oct.2020', 'values': ['170.045202860223']}, {'name': 'Nov.2020', 'values': ['170.098766893669']}, {'name': 'Dic.2020', 'values': ['191.169214456586']}, {'name': 'Ene.2021', 'values': ['160.587699375939']}, {'name': 'Feb.2021', 'values': ['155.30814785852']}, {'name': 'Mar.2021', 'values': ['164.77997549993']}, {'name': 'Abr.2021', 'values': ['164.615634494188']}, {'name': 'May.2021', 'values': ['175.477623498944']}, {'name': 'Jun.2021', 'values': ['171.955555358439']}]\n"
          ]
        }
      ]
    },
    {
      "cell_type": "code",
      "metadata": {
        "colab": {
          "base_uri": "https://localhost:8080/"
        },
        "id": "VbNkAWceGY6B",
        "outputId": "4ed9be53-fcb0-421a-d663-bf0913a6bff2"
      },
      "source": [
        "print(response_json['periods'][0])"
      ],
      "execution_count": 41,
      "outputs": [
        {
          "output_type": "stream",
          "name": "stdout",
          "text": [
            "{'name': 'Ene.2005', 'values': ['79.9791610934839']}\n"
          ]
        }
      ]
    },
    {
      "cell_type": "code",
      "metadata": {
        "colab": {
          "base_uri": "https://localhost:8080/"
        },
        "id": "OjFpKn1MGY6C",
        "outputId": "958a424c-a252-481a-fc30-96ee6dbf937c"
      },
      "source": [
        "print(response_json['periods'][0][\"values\"])\n",
        "\n",
        "#MORALEJA: IMPORTANTE DISTINGUIR LISTAS Y DICCIONARIOS EN PYTHON"
      ],
      "execution_count": 42,
      "outputs": [
        {
          "output_type": "stream",
          "name": "stdout",
          "text": [
            "['79.9791610934839']\n"
          ]
        }
      ]
    },
    {
      "cell_type": "code",
      "metadata": {
        "colab": {
          "base_uri": "https://localhost:8080/"
        },
        "id": "CkzHiUMzGY6F",
        "outputId": "2845c2fb-3871-43d9-f1ab-b397b29eaa60"
      },
      "source": [
        "#print(response_json.get(\"periods\"))  #el método get me da un resultado parecido a response_json['periods']\n",
        "periodos=response_json.get(\"periods\")\n",
        "price_index=[]\n",
        "for i in periodos:\n",
        "    valores_list=i['values']\n",
        "    for w in valores_list:\n",
        "        w=float(w)\n",
        "        price_index.append(w)\n",
        "    \n",
        "#print(type(price_index[0]))\n",
        "print(price_index)\n",
        "\n",
        "    \n",
        "    \n",
        "    \n",
        "    "
      ],
      "execution_count": 43,
      "outputs": [
        {
          "output_type": "stream",
          "name": "stdout",
          "text": [
            "[79.9791610934839, 80.1344599066734, 81.3964129865707, 87.0734470255748, 92.1414551036507, 88.4557729993011, 87.2766006292957, 82.9894831129745, 82.0878665294671, 84.8027239326644, 90.4951176179881, 91.5459266918293, 85.6590424919578, 84.6285220854951, 91.2286928400679, 91.7780023638019, 97.7619063414799, 95.072899809632, 92.9616001230902, 91.5547627296281, 88.769329600051, 92.1822066698177, 94.7874212319493, 99.4183587606666, 89.9525882643661, 88.6681172249627, 96.7214533943502, 96.6364305755835, 104.746678845017, 101.254564848151, 102.545127982158, 100.128653426881, 100.240409392761, 103.151319547191, 104.099681882306, 111.854974616273, 98.5124691500909, 100.676630392283, 104.088019443654, 110.247082044336, 112.085333116459, 112.179938878862, 112.30111638353, 108.889993837838, 110.740748155261, 111.655298051568, 110.667087487058, 117.47510267663, 102.957858945926, 101.033710465978, 107.152722142806, 108.852131263431, 114.233019803374, 108.973271232088, 110.739303018834, 109.85408751521, 111.004716399796, 113.066648315728, 113.616682254538, 122.384685307467, 106.149264450582, 106.181819433019, 115.871470441955, 117.530089179306, 122.840552655204, 122.952135955432, 121.715587141414, 119.436561951622, 122.177647930984, 123.724536977663, 123.65452856334, 131.94547143666, 116.302710412802, 114.737766544779, 124.776562514662, 126.257436978601, 129.648233774277, 126.617362281939, 129.097715620924, 127.177016700397, 128.170159496767, 129.238348040151, 129.518550609491, 143.381110002409, 122.643071947149, 122.832020719878, 132.084647458656, 130.294082135048, 138.61618365119, 136.159665679261, 138.460698232367, 136.158273093249, 136.815825182284, 138.82307463723, 137.369646504615, 148.291856249589, 130.559870876122, 129.079285439468, 136.715956871123, 141.786704119264, 144.525053723416, 144.131413574898, 145.815095106868, 143.654372163294, 143.469567366192, 147.44216107328, 147.373766707435, 158.721676108016, 136.080156900526, 135.802033826202, 144.115400712559, 145.931546827738, 148.269023094031, 144.676466485034, 147.929295918272, 145.598354671513, 147.304756751008, 150.794048039838, 147.60537140319, 159.981373380087, 138.202773285621, 137.475332897499, 148.344676924424, 152.054571104153, 150.168889528391, 150.584886125126, 153.257314986565, 149.484578017035, 152.001795472531, 155.732799904909, 153.428539254848, 170.398900194874, 143.091215635, 146.304823690228, 153.619447407356, 156.27543924953, 157.499653730297, 155.985773851789, 158.752598273969, 158.118611292709, 158.852969567679, 159.121828754461, 158.813733175265, 176.298904261276, 150.315681607042, 147.496685883019, 155.409513502016, 156.756245523049, 163.241402220255, 162.170199535179, 162.271895850081, 162.648201868668, 164.173657853003, 164.85621643264, 162.018486485472, 178.799808566343, 154.573488940953, 151.427610864173, 161.393406799648, 169.393610745309, 174.175837444048, 165.554855439437, 166.56232948485, 166.449477467445, 168.17658816427, 171.63317432662, 170.286160785504, 187.292597585809, 157.283588943142, 154.6604748931, 166.89506745534, 169.455759118905, 175.346300356905, 170.12408779673, 172.993591977303, 172.477659504587, 172.071628718802, 175.679286065069, 173.715766063067, 189.367325527928, 161.866143196905, 160.864665993473, 137.314337023617, 103.260173609716, 118.356253308774, 139.296873751302, 153.72925655473, 156.739967345061, 161.729827021749, 170.045202860223, 170.098766893669, 191.169214456586, 160.587699375939, 155.30814785852, 164.77997549993, 164.615634494188, 175.477623498944, 171.955555358439]\n"
          ]
        }
      ]
    },
    {
      "cell_type": "code",
      "metadata": {
        "colab": {
          "base_uri": "https://localhost:8080/"
        },
        "id": "nGAKj30vGY6J",
        "outputId": "da529e81-27f3-4ea0-ad62-80cd23b9f004"
      },
      "source": [
        "fechas=[]\n",
        "for i in periodos:\n",
        "    nombres=i['name']\n",
        "    fechas.append(nombres)\n",
        "    \n",
        "print(fechas)"
      ],
      "execution_count": 44,
      "outputs": [
        {
          "output_type": "stream",
          "name": "stdout",
          "text": [
            "['Ene.2005', 'Feb.2005', 'Mar.2005', 'Abr.2005', 'May.2005', 'Jun.2005', 'Jul.2005', 'Ago.2005', 'Sep.2005', 'Oct.2005', 'Nov.2005', 'Dic.2005', 'Ene.2006', 'Feb.2006', 'Mar.2006', 'Abr.2006', 'May.2006', 'Jun.2006', 'Jul.2006', 'Ago.2006', 'Sep.2006', 'Oct.2006', 'Nov.2006', 'Dic.2006', 'Ene.2007', 'Feb.2007', 'Mar.2007', 'Abr.2007', 'May.2007', 'Jun.2007', 'Jul.2007', 'Ago.2007', 'Sep.2007', 'Oct.2007', 'Nov.2007', 'Dic.2007', 'Ene.2008', 'Feb.2008', 'Mar.2008', 'Abr.2008', 'May.2008', 'Jun.2008', 'Jul.2008', 'Ago.2008', 'Sep.2008', 'Oct.2008', 'Nov.2008', 'Dic.2008', 'Ene.2009', 'Feb.2009', 'Mar.2009', 'Abr.2009', 'May.2009', 'Jun.2009', 'Jul.2009', 'Ago.2009', 'Sep.2009', 'Oct.2009', 'Nov.2009', 'Dic.2009', 'Ene.2010', 'Feb.2010', 'Mar.2010', 'Abr.2010', 'May.2010', 'Jun.2010', 'Jul.2010', 'Ago.2010', 'Sep.2010', 'Oct.2010', 'Nov.2010', 'Dic.2010', 'Ene.2011', 'Feb.2011', 'Mar.2011', 'Abr.2011', 'May.2011', 'Jun.2011', 'Jul.2011', 'Ago.2011', 'Sep.2011', 'Oct.2011', 'Nov.2011', 'Dic.2011', 'Ene.2012', 'Feb.2012', 'Mar.2012', 'Abr.2012', 'May.2012', 'Jun.2012', 'Jul.2012', 'Ago.2012', 'Sep.2012', 'Oct.2012', 'Nov.2012', 'Dic.2012', 'Ene.2013', 'Feb.2013', 'Mar.2013', 'Abr.2013', 'May.2013', 'Jun.2013', 'Jul.2013', 'Ago.2013', 'Sep.2013', 'Oct.2013', 'Nov.2013', 'Dic.2013', 'Ene.2014', 'Feb.2014', 'Mar.2014', 'Abr.2014', 'May.2014', 'Jun.2014', 'Jul.2014', 'Ago.2014', 'Sep.2014', 'Oct.2014', 'Nov.2014', 'Dic.2014', 'Ene.2015', 'Feb.2015', 'Mar.2015', 'Abr.2015', 'May.2015', 'Jun.2015', 'Jul.2015', 'Ago.2015', 'Sep.2015', 'Oct.2015', 'Nov.2015', 'Dic.2015', 'Ene.2016', 'Feb.2016', 'Mar.2016', 'Abr.2016', 'May.2016', 'Jun.2016', 'Jul.2016', 'Ago.2016', 'Sep.2016', 'Oct.2016', 'Nov.2016', 'Dic.2016', 'Ene.2017', 'Feb.2017', 'Mar.2017', 'Abr.2017', 'May.2017', 'Jun.2017', 'Jul.2017', 'Ago.2017', 'Sep.2017', 'Oct.2017', 'Nov.2017', 'Dic.2017', 'Ene.2018', 'Feb.2018', 'Mar.2018', 'Abr.2018', 'May.2018', 'Jun.2018', 'Jul.2018', 'Ago.2018', 'Sep.2018', 'Oct.2018', 'Nov.2018', 'Dic.2018', 'Ene.2019', 'Feb.2019', 'Mar.2019', 'Abr.2019', 'May.2019', 'Jun.2019', 'Jul.2019', 'Ago.2019', 'Sep.2019', 'Oct.2019', 'Nov.2019', 'Dic.2019', 'Ene.2020', 'Feb.2020', 'Mar.2020', 'Abr.2020', 'May.2020', 'Jun.2020', 'Jul.2020', 'Ago.2020', 'Sep.2020', 'Oct.2020', 'Nov.2020', 'Dic.2020', 'Ene.2021', 'Feb.2021', 'Mar.2021', 'Abr.2021', 'May.2021', 'Jun.2021']\n"
          ]
        }
      ]
    },
    {
      "cell_type": "markdown",
      "metadata": {
        "id": "rsaQv5XYI-TC"
      },
      "source": [
        "## III. Limpieza y creación de Data Frame"
      ]
    },
    {
      "cell_type": "code",
      "metadata": {
        "id": "Br9f3p8gGY6P"
      },
      "source": [
        "\n",
        "import pandas as pd"
      ],
      "execution_count": 45,
      "outputs": []
    },
    {
      "cell_type": "code",
      "metadata": {
        "colab": {
          "base_uri": "https://localhost:8080/"
        },
        "id": "os7cbRiVGY6R",
        "outputId": "323cfd70-1192-4b30-e4a1-a8739ad2f3f8"
      },
      "source": [
        "diccionario= {\"Fechas\":fechas, \"Valores\":price_index}\n",
        "print(diccionario)"
      ],
      "execution_count": 46,
      "outputs": [
        {
          "output_type": "stream",
          "name": "stdout",
          "text": [
            "{'Fechas': ['Ene.2005', 'Feb.2005', 'Mar.2005', 'Abr.2005', 'May.2005', 'Jun.2005', 'Jul.2005', 'Ago.2005', 'Sep.2005', 'Oct.2005', 'Nov.2005', 'Dic.2005', 'Ene.2006', 'Feb.2006', 'Mar.2006', 'Abr.2006', 'May.2006', 'Jun.2006', 'Jul.2006', 'Ago.2006', 'Sep.2006', 'Oct.2006', 'Nov.2006', 'Dic.2006', 'Ene.2007', 'Feb.2007', 'Mar.2007', 'Abr.2007', 'May.2007', 'Jun.2007', 'Jul.2007', 'Ago.2007', 'Sep.2007', 'Oct.2007', 'Nov.2007', 'Dic.2007', 'Ene.2008', 'Feb.2008', 'Mar.2008', 'Abr.2008', 'May.2008', 'Jun.2008', 'Jul.2008', 'Ago.2008', 'Sep.2008', 'Oct.2008', 'Nov.2008', 'Dic.2008', 'Ene.2009', 'Feb.2009', 'Mar.2009', 'Abr.2009', 'May.2009', 'Jun.2009', 'Jul.2009', 'Ago.2009', 'Sep.2009', 'Oct.2009', 'Nov.2009', 'Dic.2009', 'Ene.2010', 'Feb.2010', 'Mar.2010', 'Abr.2010', 'May.2010', 'Jun.2010', 'Jul.2010', 'Ago.2010', 'Sep.2010', 'Oct.2010', 'Nov.2010', 'Dic.2010', 'Ene.2011', 'Feb.2011', 'Mar.2011', 'Abr.2011', 'May.2011', 'Jun.2011', 'Jul.2011', 'Ago.2011', 'Sep.2011', 'Oct.2011', 'Nov.2011', 'Dic.2011', 'Ene.2012', 'Feb.2012', 'Mar.2012', 'Abr.2012', 'May.2012', 'Jun.2012', 'Jul.2012', 'Ago.2012', 'Sep.2012', 'Oct.2012', 'Nov.2012', 'Dic.2012', 'Ene.2013', 'Feb.2013', 'Mar.2013', 'Abr.2013', 'May.2013', 'Jun.2013', 'Jul.2013', 'Ago.2013', 'Sep.2013', 'Oct.2013', 'Nov.2013', 'Dic.2013', 'Ene.2014', 'Feb.2014', 'Mar.2014', 'Abr.2014', 'May.2014', 'Jun.2014', 'Jul.2014', 'Ago.2014', 'Sep.2014', 'Oct.2014', 'Nov.2014', 'Dic.2014', 'Ene.2015', 'Feb.2015', 'Mar.2015', 'Abr.2015', 'May.2015', 'Jun.2015', 'Jul.2015', 'Ago.2015', 'Sep.2015', 'Oct.2015', 'Nov.2015', 'Dic.2015', 'Ene.2016', 'Feb.2016', 'Mar.2016', 'Abr.2016', 'May.2016', 'Jun.2016', 'Jul.2016', 'Ago.2016', 'Sep.2016', 'Oct.2016', 'Nov.2016', 'Dic.2016', 'Ene.2017', 'Feb.2017', 'Mar.2017', 'Abr.2017', 'May.2017', 'Jun.2017', 'Jul.2017', 'Ago.2017', 'Sep.2017', 'Oct.2017', 'Nov.2017', 'Dic.2017', 'Ene.2018', 'Feb.2018', 'Mar.2018', 'Abr.2018', 'May.2018', 'Jun.2018', 'Jul.2018', 'Ago.2018', 'Sep.2018', 'Oct.2018', 'Nov.2018', 'Dic.2018', 'Ene.2019', 'Feb.2019', 'Mar.2019', 'Abr.2019', 'May.2019', 'Jun.2019', 'Jul.2019', 'Ago.2019', 'Sep.2019', 'Oct.2019', 'Nov.2019', 'Dic.2019', 'Ene.2020', 'Feb.2020', 'Mar.2020', 'Abr.2020', 'May.2020', 'Jun.2020', 'Jul.2020', 'Ago.2020', 'Sep.2020', 'Oct.2020', 'Nov.2020', 'Dic.2020', 'Ene.2021', 'Feb.2021', 'Mar.2021', 'Abr.2021', 'May.2021', 'Jun.2021'], 'Valores': [79.9791610934839, 80.1344599066734, 81.3964129865707, 87.0734470255748, 92.1414551036507, 88.4557729993011, 87.2766006292957, 82.9894831129745, 82.0878665294671, 84.8027239326644, 90.4951176179881, 91.5459266918293, 85.6590424919578, 84.6285220854951, 91.2286928400679, 91.7780023638019, 97.7619063414799, 95.072899809632, 92.9616001230902, 91.5547627296281, 88.769329600051, 92.1822066698177, 94.7874212319493, 99.4183587606666, 89.9525882643661, 88.6681172249627, 96.7214533943502, 96.6364305755835, 104.746678845017, 101.254564848151, 102.545127982158, 100.128653426881, 100.240409392761, 103.151319547191, 104.099681882306, 111.854974616273, 98.5124691500909, 100.676630392283, 104.088019443654, 110.247082044336, 112.085333116459, 112.179938878862, 112.30111638353, 108.889993837838, 110.740748155261, 111.655298051568, 110.667087487058, 117.47510267663, 102.957858945926, 101.033710465978, 107.152722142806, 108.852131263431, 114.233019803374, 108.973271232088, 110.739303018834, 109.85408751521, 111.004716399796, 113.066648315728, 113.616682254538, 122.384685307467, 106.149264450582, 106.181819433019, 115.871470441955, 117.530089179306, 122.840552655204, 122.952135955432, 121.715587141414, 119.436561951622, 122.177647930984, 123.724536977663, 123.65452856334, 131.94547143666, 116.302710412802, 114.737766544779, 124.776562514662, 126.257436978601, 129.648233774277, 126.617362281939, 129.097715620924, 127.177016700397, 128.170159496767, 129.238348040151, 129.518550609491, 143.381110002409, 122.643071947149, 122.832020719878, 132.084647458656, 130.294082135048, 138.61618365119, 136.159665679261, 138.460698232367, 136.158273093249, 136.815825182284, 138.82307463723, 137.369646504615, 148.291856249589, 130.559870876122, 129.079285439468, 136.715956871123, 141.786704119264, 144.525053723416, 144.131413574898, 145.815095106868, 143.654372163294, 143.469567366192, 147.44216107328, 147.373766707435, 158.721676108016, 136.080156900526, 135.802033826202, 144.115400712559, 145.931546827738, 148.269023094031, 144.676466485034, 147.929295918272, 145.598354671513, 147.304756751008, 150.794048039838, 147.60537140319, 159.981373380087, 138.202773285621, 137.475332897499, 148.344676924424, 152.054571104153, 150.168889528391, 150.584886125126, 153.257314986565, 149.484578017035, 152.001795472531, 155.732799904909, 153.428539254848, 170.398900194874, 143.091215635, 146.304823690228, 153.619447407356, 156.27543924953, 157.499653730297, 155.985773851789, 158.752598273969, 158.118611292709, 158.852969567679, 159.121828754461, 158.813733175265, 176.298904261276, 150.315681607042, 147.496685883019, 155.409513502016, 156.756245523049, 163.241402220255, 162.170199535179, 162.271895850081, 162.648201868668, 164.173657853003, 164.85621643264, 162.018486485472, 178.799808566343, 154.573488940953, 151.427610864173, 161.393406799648, 169.393610745309, 174.175837444048, 165.554855439437, 166.56232948485, 166.449477467445, 168.17658816427, 171.63317432662, 170.286160785504, 187.292597585809, 157.283588943142, 154.6604748931, 166.89506745534, 169.455759118905, 175.346300356905, 170.12408779673, 172.993591977303, 172.477659504587, 172.071628718802, 175.679286065069, 173.715766063067, 189.367325527928, 161.866143196905, 160.864665993473, 137.314337023617, 103.260173609716, 118.356253308774, 139.296873751302, 153.72925655473, 156.739967345061, 161.729827021749, 170.045202860223, 170.098766893669, 191.169214456586, 160.587699375939, 155.30814785852, 164.77997549993, 164.615634494188, 175.477623498944, 171.955555358439]}\n"
          ]
        }
      ]
    },
    {
      "cell_type": "code",
      "metadata": {
        "colab": {
          "base_uri": "https://localhost:8080/",
          "height": 419
        },
        "id": "ZA6HmzijGY6U",
        "outputId": "c6d7276c-d708-45f5-b317-47549d53f5d4"
      },
      "source": [
        "df = pd.DataFrame(diccionario)\n",
        "#df.set_index(df['date'], inplace=True)\n",
        "#df=df.drop(columns=['date'])\n",
        "#df[\"Fechas\"]=pd.to_datetime(df[\"Fechas\"], infer_datetime_format=True)\n",
        "#Hay nulls?\n",
        "#df.isnull().sum()  #no hay\n",
        "df"
      ],
      "execution_count": 47,
      "outputs": [
        {
          "output_type": "execute_result",
          "data": {
            "text/html": [
              "<div>\n",
              "<style scoped>\n",
              "    .dataframe tbody tr th:only-of-type {\n",
              "        vertical-align: middle;\n",
              "    }\n",
              "\n",
              "    .dataframe tbody tr th {\n",
              "        vertical-align: top;\n",
              "    }\n",
              "\n",
              "    .dataframe thead th {\n",
              "        text-align: right;\n",
              "    }\n",
              "</style>\n",
              "<table border=\"1\" class=\"dataframe\">\n",
              "  <thead>\n",
              "    <tr style=\"text-align: right;\">\n",
              "      <th></th>\n",
              "      <th>Fechas</th>\n",
              "      <th>Valores</th>\n",
              "    </tr>\n",
              "  </thead>\n",
              "  <tbody>\n",
              "    <tr>\n",
              "      <th>0</th>\n",
              "      <td>Ene.2005</td>\n",
              "      <td>79.979161</td>\n",
              "    </tr>\n",
              "    <tr>\n",
              "      <th>1</th>\n",
              "      <td>Feb.2005</td>\n",
              "      <td>80.134460</td>\n",
              "    </tr>\n",
              "    <tr>\n",
              "      <th>2</th>\n",
              "      <td>Mar.2005</td>\n",
              "      <td>81.396413</td>\n",
              "    </tr>\n",
              "    <tr>\n",
              "      <th>3</th>\n",
              "      <td>Abr.2005</td>\n",
              "      <td>87.073447</td>\n",
              "    </tr>\n",
              "    <tr>\n",
              "      <th>4</th>\n",
              "      <td>May.2005</td>\n",
              "      <td>92.141455</td>\n",
              "    </tr>\n",
              "    <tr>\n",
              "      <th>...</th>\n",
              "      <td>...</td>\n",
              "      <td>...</td>\n",
              "    </tr>\n",
              "    <tr>\n",
              "      <th>193</th>\n",
              "      <td>Feb.2021</td>\n",
              "      <td>155.308148</td>\n",
              "    </tr>\n",
              "    <tr>\n",
              "      <th>194</th>\n",
              "      <td>Mar.2021</td>\n",
              "      <td>164.779975</td>\n",
              "    </tr>\n",
              "    <tr>\n",
              "      <th>195</th>\n",
              "      <td>Abr.2021</td>\n",
              "      <td>164.615634</td>\n",
              "    </tr>\n",
              "    <tr>\n",
              "      <th>196</th>\n",
              "      <td>May.2021</td>\n",
              "      <td>175.477623</td>\n",
              "    </tr>\n",
              "    <tr>\n",
              "      <th>197</th>\n",
              "      <td>Jun.2021</td>\n",
              "      <td>171.955555</td>\n",
              "    </tr>\n",
              "  </tbody>\n",
              "</table>\n",
              "<p>198 rows × 2 columns</p>\n",
              "</div>"
            ],
            "text/plain": [
              "       Fechas     Valores\n",
              "0    Ene.2005   79.979161\n",
              "1    Feb.2005   80.134460\n",
              "2    Mar.2005   81.396413\n",
              "3    Abr.2005   87.073447\n",
              "4    May.2005   92.141455\n",
              "..        ...         ...\n",
              "193  Feb.2021  155.308148\n",
              "194  Mar.2021  164.779975\n",
              "195  Abr.2021  164.615634\n",
              "196  May.2021  175.477623\n",
              "197  Jun.2021  171.955555\n",
              "\n",
              "[198 rows x 2 columns]"
            ]
          },
          "metadata": {},
          "execution_count": 47
        }
      ]
    },
    {
      "cell_type": "code",
      "metadata": {
        "id": "B1R_wma-ZPRS",
        "outputId": "cecbd62b-3e71-4a94-e047-f6678cf3b8c4",
        "colab": {
          "base_uri": "https://localhost:8080/",
          "height": 204
        }
      },
      "source": [
        "df.tail()"
      ],
      "execution_count": 51,
      "outputs": [
        {
          "output_type": "execute_result",
          "data": {
            "text/html": [
              "<div>\n",
              "<style scoped>\n",
              "    .dataframe tbody tr th:only-of-type {\n",
              "        vertical-align: middle;\n",
              "    }\n",
              "\n",
              "    .dataframe tbody tr th {\n",
              "        vertical-align: top;\n",
              "    }\n",
              "\n",
              "    .dataframe thead th {\n",
              "        text-align: right;\n",
              "    }\n",
              "</style>\n",
              "<table border=\"1\" class=\"dataframe\">\n",
              "  <thead>\n",
              "    <tr style=\"text-align: right;\">\n",
              "      <th></th>\n",
              "      <th>Fechas</th>\n",
              "      <th>Valores</th>\n",
              "    </tr>\n",
              "  </thead>\n",
              "  <tbody>\n",
              "    <tr>\n",
              "      <th>193</th>\n",
              "      <td>Feb.2021</td>\n",
              "      <td>155.308148</td>\n",
              "    </tr>\n",
              "    <tr>\n",
              "      <th>194</th>\n",
              "      <td>Mar.2021</td>\n",
              "      <td>164.779975</td>\n",
              "    </tr>\n",
              "    <tr>\n",
              "      <th>195</th>\n",
              "      <td>Abr.2021</td>\n",
              "      <td>164.615634</td>\n",
              "    </tr>\n",
              "    <tr>\n",
              "      <th>196</th>\n",
              "      <td>May.2021</td>\n",
              "      <td>175.477623</td>\n",
              "    </tr>\n",
              "    <tr>\n",
              "      <th>197</th>\n",
              "      <td>Jun.2021</td>\n",
              "      <td>171.955555</td>\n",
              "    </tr>\n",
              "  </tbody>\n",
              "</table>\n",
              "</div>"
            ],
            "text/plain": [
              "       Fechas     Valores\n",
              "193  Feb.2021  155.308148\n",
              "194  Mar.2021  164.779975\n",
              "195  Abr.2021  164.615634\n",
              "196  May.2021  175.477623\n",
              "197  Jun.2021  171.955555"
            ]
          },
          "metadata": {},
          "execution_count": 51
        }
      ]
    },
    {
      "cell_type": "code",
      "metadata": {
        "colab": {
          "base_uri": "https://localhost:8080/",
          "height": 366
        },
        "id": "NaIylaq0GY6X",
        "outputId": "ee42b20e-97df-4d71-a11b-87ecf142f561"
      },
      "source": [
        "import matplotlib.pyplot as plt\n",
        "import seaborn as sns\n",
        "sns.distplot(df['Valores'])\n",
        "plt.title('Distribución deL PBI')"
      ],
      "execution_count": 48,
      "outputs": [
        {
          "output_type": "stream",
          "name": "stderr",
          "text": [
            "/usr/local/lib/python3.7/dist-packages/seaborn/distributions.py:2557: FutureWarning: `distplot` is a deprecated function and will be removed in a future version. Please adapt your code to use either `displot` (a figure-level function with similar flexibility) or `histplot` (an axes-level function for histograms).\n",
            "  warnings.warn(msg, FutureWarning)\n"
          ]
        },
        {
          "output_type": "execute_result",
          "data": {
            "text/plain": [
              "Text(0.5, 1.0, 'Distribución deL PBI')"
            ]
          },
          "metadata": {},
          "execution_count": 48
        },
        {
          "output_type": "display_data",
          "data": {
            "image/png": "[encoded data removed]",
            "text/plain": [
              "<Figure size 432x288 with 1 Axes>"
            ]
          },
          "metadata": {
            "needs_background": "light"
          }
        }
      ]
    },
    {
      "cell_type": "code",
      "metadata": {
        "colab": {
          "base_uri": "https://localhost:8080/",
          "height": 282
        },
        "id": "kR7Tf-r1GY6b",
        "outputId": "3e275ab4-6a18-4206-bb08-80a199a7c36a"
      },
      "source": [
        "df.boxplot('Valores')\n"
      ],
      "execution_count": 49,
      "outputs": [
        {
          "output_type": "execute_result",
          "data": {
            "text/plain": [
              "<matplotlib.axes._subplots.AxesSubplot at 0x7ff87da60950>"
            ]
          },
          "metadata": {},
          "execution_count": 49
        },
        {
          "output_type": "display_data",
          "data": {
            "image/png": "[encoded data removed]",
            "text/plain": [
              "<Figure size 432x288 with 1 Axes>"
            ]
          },
          "metadata": {
            "needs_background": "light"
          }
        }
      ]
    },
    {
      "cell_type": "code",
      "metadata": {
        "colab": {
          "base_uri": "https://localhost:8080/",
          "height": 334
        },
        "id": "VUT7WA-JGY6c",
        "outputId": "a22d16a1-6615-46a0-b3ce-8b2a92a1a4be"
      },
      "source": [
        "\n",
        "df.plot(x ='Fechas', y='Valores', figsize=(15, 5), kind = 'line')\n",
        "plt.xlabel(\"Fechas\")\n",
        "plt.ylabel(\"PBI\")\n",
        "plt.show()"
      ],
      "execution_count": 50,
      "outputs": [
        {
          "output_type": "display_data",
          "data": {
            "image/png": "[encoded data removed]",
            "text/plain": [
              "<Figure size 1080x360 with 1 Axes>"
            ]
          },
          "metadata": {
            "needs_background": "light"
          }
        }
      ]
    },
    {
      "cell_type": "code",
      "metadata": {
        "id": "vHa-FHd-Vur0"
      },
      "source": [
        ""
      ],
      "execution_count": null,
      "outputs": []
    },
    {
      "cell_type": "code",
      "metadata": {
        "id": "kXEFSyLKVur0"
      },
      "source": [
        ""
      ],
      "execution_count": null,
      "outputs": []
    }
  ]
}